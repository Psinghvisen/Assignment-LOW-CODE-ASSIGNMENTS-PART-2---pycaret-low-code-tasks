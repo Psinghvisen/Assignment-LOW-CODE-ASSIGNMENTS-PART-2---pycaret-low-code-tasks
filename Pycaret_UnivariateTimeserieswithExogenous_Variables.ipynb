{
  "nbformat": 4,
  "nbformat_minor": 0,
  "metadata": {
    "colab": {
      "provenance": []
    },
    "kernelspec": {
      "name": "python3",
      "display_name": "Python 3"
    },
    "language_info": {
      "name": "python"
    },
    "widgets": {
      "application/vnd.jupyter.widget-state+json": {
        "9fe43f3fea7447c59f743895953be996": {
          "model_module": "@jupyter-widgets/controls",
          "model_name": "HBoxModel",
          "model_module_version": "1.5.0",
          "state": {
            "_dom_classes": [],
            "_model_module": "@jupyter-widgets/controls",
            "_model_module_version": "1.5.0",
            "_model_name": "HBoxModel",
            "_view_count": null,
            "_view_module": "@jupyter-widgets/controls",
            "_view_module_version": "1.5.0",
            "_view_name": "HBoxView",
            "box_style": "",
            "children": [
              "IPY_MODEL_bb3a19595fde4aa7868ed632e5e28361",
              "IPY_MODEL_6c499f016ab14ed8b0e7c0ef804a721f",
              "IPY_MODEL_e5095da50b1f48d1b25d61e1b8f1a3ca"
            ],
            "layout": "IPY_MODEL_bca94629824d4bbb833ea53495468d55"
          }
        },
        "bb3a19595fde4aa7868ed632e5e28361": {
          "model_module": "@jupyter-widgets/controls",
          "model_name": "HTMLModel",
          "model_module_version": "1.5.0",
          "state": {
            "_dom_classes": [],
            "_model_module": "@jupyter-widgets/controls",
            "_model_module_version": "1.5.0",
            "_model_name": "HTMLModel",
            "_view_count": null,
            "_view_module": "@jupyter-widgets/controls",
            "_view_module_version": "1.5.0",
            "_view_name": "HTMLView",
            "description": "",
            "description_tooltip": null,
            "layout": "IPY_MODEL_56f96bba52854a88b05d5833b55d58a7",
            "placeholder": "​",
            "style": "IPY_MODEL_ffeabeb9ac3d4f9ca71b663d6bab59b8",
            "value": "Processing:  94%"
          }
        },
        "6c499f016ab14ed8b0e7c0ef804a721f": {
          "model_module": "@jupyter-widgets/controls",
          "model_name": "FloatProgressModel",
          "model_module_version": "1.5.0",
          "state": {
            "_dom_classes": [],
            "_model_module": "@jupyter-widgets/controls",
            "_model_module_version": "1.5.0",
            "_model_name": "FloatProgressModel",
            "_view_count": null,
            "_view_module": "@jupyter-widgets/controls",
            "_view_module_version": "1.5.0",
            "_view_name": "ProgressView",
            "bar_style": "danger",
            "description": "",
            "description_tooltip": null,
            "layout": "IPY_MODEL_d8f42ed60439460ebb35e2c28d9aba33",
            "max": 89,
            "min": 0,
            "orientation": "horizontal",
            "style": "IPY_MODEL_b56215e3cd474fc880268a7b18c01382",
            "value": 84
          }
        },
        "e5095da50b1f48d1b25d61e1b8f1a3ca": {
          "model_module": "@jupyter-widgets/controls",
          "model_name": "HTMLModel",
          "model_module_version": "1.5.0",
          "state": {
            "_dom_classes": [],
            "_model_module": "@jupyter-widgets/controls",
            "_model_module_version": "1.5.0",
            "_model_name": "HTMLModel",
            "_view_count": null,
            "_view_module": "@jupyter-widgets/controls",
            "_view_module_version": "1.5.0",
            "_view_name": "HTMLView",
            "description": "",
            "description_tooltip": null,
            "layout": "IPY_MODEL_ca8e38880456471593e4017a986bb6b2",
            "placeholder": "​",
            "style": "IPY_MODEL_df13c5c27fde4d99a79682ed561cf7b2",
            "value": " 84/89 [05:23&lt;00:23,  4.76s/it]"
          }
        },
        "bca94629824d4bbb833ea53495468d55": {
          "model_module": "@jupyter-widgets/base",
          "model_name": "LayoutModel",
          "model_module_version": "1.2.0",
          "state": {
            "_model_module": "@jupyter-widgets/base",
            "_model_module_version": "1.2.0",
            "_model_name": "LayoutModel",
            "_view_count": null,
            "_view_module": "@jupyter-widgets/base",
            "_view_module_version": "1.2.0",
            "_view_name": "LayoutView",
            "align_content": null,
            "align_items": null,
            "align_self": null,
            "border": null,
            "bottom": null,
            "display": null,
            "flex": null,
            "flex_flow": null,
            "grid_area": null,
            "grid_auto_columns": null,
            "grid_auto_flow": null,
            "grid_auto_rows": null,
            "grid_column": null,
            "grid_gap": null,
            "grid_row": null,
            "grid_template_areas": null,
            "grid_template_columns": null,
            "grid_template_rows": null,
            "height": null,
            "justify_content": null,
            "justify_items": null,
            "left": null,
            "margin": null,
            "max_height": null,
            "max_width": null,
            "min_height": null,
            "min_width": null,
            "object_fit": null,
            "object_position": null,
            "order": null,
            "overflow": null,
            "overflow_x": null,
            "overflow_y": null,
            "padding": null,
            "right": null,
            "top": null,
            "visibility": null,
            "width": null
          }
        },
        "56f96bba52854a88b05d5833b55d58a7": {
          "model_module": "@jupyter-widgets/base",
          "model_name": "LayoutModel",
          "model_module_version": "1.2.0",
          "state": {
            "_model_module": "@jupyter-widgets/base",
            "_model_module_version": "1.2.0",
            "_model_name": "LayoutModel",
            "_view_count": null,
            "_view_module": "@jupyter-widgets/base",
            "_view_module_version": "1.2.0",
            "_view_name": "LayoutView",
            "align_content": null,
            "align_items": null,
            "align_self": null,
            "border": null,
            "bottom": null,
            "display": null,
            "flex": null,
            "flex_flow": null,
            "grid_area": null,
            "grid_auto_columns": null,
            "grid_auto_flow": null,
            "grid_auto_rows": null,
            "grid_column": null,
            "grid_gap": null,
            "grid_row": null,
            "grid_template_areas": null,
            "grid_template_columns": null,
            "grid_template_rows": null,
            "height": null,
            "justify_content": null,
            "justify_items": null,
            "left": null,
            "margin": null,
            "max_height": null,
            "max_width": null,
            "min_height": null,
            "min_width": null,
            "object_fit": null,
            "object_position": null,
            "order": null,
            "overflow": null,
            "overflow_x": null,
            "overflow_y": null,
            "padding": null,
            "right": null,
            "top": null,
            "visibility": null,
            "width": null
          }
        },
        "ffeabeb9ac3d4f9ca71b663d6bab59b8": {
          "model_module": "@jupyter-widgets/controls",
          "model_name": "DescriptionStyleModel",
          "model_module_version": "1.5.0",
          "state": {
            "_model_module": "@jupyter-widgets/controls",
            "_model_module_version": "1.5.0",
            "_model_name": "DescriptionStyleModel",
            "_view_count": null,
            "_view_module": "@jupyter-widgets/base",
            "_view_module_version": "1.2.0",
            "_view_name": "StyleView",
            "description_width": ""
          }
        },
        "d8f42ed60439460ebb35e2c28d9aba33": {
          "model_module": "@jupyter-widgets/base",
          "model_name": "LayoutModel",
          "model_module_version": "1.2.0",
          "state": {
            "_model_module": "@jupyter-widgets/base",
            "_model_module_version": "1.2.0",
            "_model_name": "LayoutModel",
            "_view_count": null,
            "_view_module": "@jupyter-widgets/base",
            "_view_module_version": "1.2.0",
            "_view_name": "LayoutView",
            "align_content": null,
            "align_items": null,
            "align_self": null,
            "border": null,
            "bottom": null,
            "display": null,
            "flex": null,
            "flex_flow": null,
            "grid_area": null,
            "grid_auto_columns": null,
            "grid_auto_flow": null,
            "grid_auto_rows": null,
            "grid_column": null,
            "grid_gap": null,
            "grid_row": null,
            "grid_template_areas": null,
            "grid_template_columns": null,
            "grid_template_rows": null,
            "height": null,
            "justify_content": null,
            "justify_items": null,
            "left": null,
            "margin": null,
            "max_height": null,
            "max_width": null,
            "min_height": null,
            "min_width": null,
            "object_fit": null,
            "object_position": null,
            "order": null,
            "overflow": null,
            "overflow_x": null,
            "overflow_y": null,
            "padding": null,
            "right": null,
            "top": null,
            "visibility": null,
            "width": null
          }
        },
        "b56215e3cd474fc880268a7b18c01382": {
          "model_module": "@jupyter-widgets/controls",
          "model_name": "ProgressStyleModel",
          "model_module_version": "1.5.0",
          "state": {
            "_model_module": "@jupyter-widgets/controls",
            "_model_module_version": "1.5.0",
            "_model_name": "ProgressStyleModel",
            "_view_count": null,
            "_view_module": "@jupyter-widgets/base",
            "_view_module_version": "1.2.0",
            "_view_name": "StyleView",
            "bar_color": null,
            "description_width": ""
          }
        },
        "ca8e38880456471593e4017a986bb6b2": {
          "model_module": "@jupyter-widgets/base",
          "model_name": "LayoutModel",
          "model_module_version": "1.2.0",
          "state": {
            "_model_module": "@jupyter-widgets/base",
            "_model_module_version": "1.2.0",
            "_model_name": "LayoutModel",
            "_view_count": null,
            "_view_module": "@jupyter-widgets/base",
            "_view_module_version": "1.2.0",
            "_view_name": "LayoutView",
            "align_content": null,
            "align_items": null,
            "align_self": null,
            "border": null,
            "bottom": null,
            "display": null,
            "flex": null,
            "flex_flow": null,
            "grid_area": null,
            "grid_auto_columns": null,
            "grid_auto_flow": null,
            "grid_auto_rows": null,
            "grid_column": null,
            "grid_gap": null,
            "grid_row": null,
            "grid_template_areas": null,
            "grid_template_columns": null,
            "grid_template_rows": null,
            "height": null,
            "justify_content": null,
            "justify_items": null,
            "left": null,
            "margin": null,
            "max_height": null,
            "max_width": null,
            "min_height": null,
            "min_width": null,
            "object_fit": null,
            "object_position": null,
            "order": null,
            "overflow": null,
            "overflow_x": null,
            "overflow_y": null,
            "padding": null,
            "right": null,
            "top": null,
            "visibility": null,
            "width": null
          }
        },
        "df13c5c27fde4d99a79682ed561cf7b2": {
          "model_module": "@jupyter-widgets/controls",
          "model_name": "DescriptionStyleModel",
          "model_module_version": "1.5.0",
          "state": {
            "_model_module": "@jupyter-widgets/controls",
            "_model_module_version": "1.5.0",
            "_model_name": "DescriptionStyleModel",
            "_view_count": null,
            "_view_module": "@jupyter-widgets/base",
            "_view_module_version": "1.2.0",
            "_view_name": "StyleView",
            "description_width": ""
          }
        }
      }
    }
  },
  "cells": [
    {
      "cell_type": "code",
      "execution_count": 28,
      "metadata": {
        "id": "0woMxtFFetQK"
      },
      "outputs": [],
      "source": [
        "!pip install pycaret[full] --quiet"
      ]
    },
    {
      "cell_type": "code",
      "source": [
        "# check installed version\n",
        "import pycaret\n",
        "import pandas as pd\n",
        "from pycaret.time_series import TSForecastingExperiment\n",
        "pycaret.__version__\n",
        "from google.colab import drive\n",
        "drive.mount('/content/drive')"
      ],
      "metadata": {
        "colab": {
          "base_uri": "https://localhost:8080/"
        },
        "id": "Sc-2xOXFe6NE",
        "outputId": "9fca7a3a-0987-4ffb-b59d-d7ddd7ff2f03"
      },
      "execution_count": 29,
      "outputs": [
        {
          "output_type": "stream",
          "name": "stdout",
          "text": [
            "Drive already mounted at /content/drive; to attempt to forcibly remount, call drive.mount(\"/content/drive\", force_remount=True).\n"
          ]
        }
      ]
    },
    {
      "cell_type": "code",
      "source": [
        "### loading sample dataset from pycaret dataset module\n",
        "\n",
        "data_path = '/content/drive/My Drive/pycaret_timeseries/SolarPrediction.csv'\n",
        "data = pd.read_csv(data_path)\n",
        "data.head()\n"
      ],
      "metadata": {
        "id": "TN9PGZece_od",
        "colab": {
          "base_uri": "https://localhost:8080/",
          "height": 400
        },
        "outputId": "f23cb03b-2d16-4722-bbc6-82e5316fe7b8"
      },
      "execution_count": 30,
      "outputs": [
        {
          "output_type": "execute_result",
          "data": {
            "text/plain": [
              "     UNIXTime                   Data      Time  Radiation  Temperature  \\\n",
              "0  1475229326  9/29/2016 12:00:00 AM  23:55:26       1.21           48   \n",
              "1  1475229023  9/29/2016 12:00:00 AM  23:50:23       1.21           48   \n",
              "2  1475228726  9/29/2016 12:00:00 AM  23:45:26       1.23           48   \n",
              "3  1475228421  9/29/2016 12:00:00 AM  23:40:21       1.21           48   \n",
              "4  1475228124  9/29/2016 12:00:00 AM  23:35:24       1.17           48   \n",
              "\n",
              "   Pressure  Humidity  WindDirection(Degrees)  Speed TimeSunRise TimeSunSet  \n",
              "0     30.46        59                  177.39   5.62    06:13:00   18:13:00  \n",
              "1     30.46        58                  176.78   3.37    06:13:00   18:13:00  \n",
              "2     30.46        57                  158.75   3.37    06:13:00   18:13:00  \n",
              "3     30.46        60                  137.71   3.37    06:13:00   18:13:00  \n",
              "4     30.46        62                  104.95   5.62    06:13:00   18:13:00  "
            ],
            "text/html": [
              "\n",
              "  <div id=\"df-7dc2885b-60e2-4b5b-af9d-a1ab61f2efe8\" class=\"colab-df-container\">\n",
              "    <div>\n",
              "<style scoped>\n",
              "    .dataframe tbody tr th:only-of-type {\n",
              "        vertical-align: middle;\n",
              "    }\n",
              "\n",
              "    .dataframe tbody tr th {\n",
              "        vertical-align: top;\n",
              "    }\n",
              "\n",
              "    .dataframe thead th {\n",
              "        text-align: right;\n",
              "    }\n",
              "</style>\n",
              "<table border=\"1\" class=\"dataframe\">\n",
              "  <thead>\n",
              "    <tr style=\"text-align: right;\">\n",
              "      <th></th>\n",
              "      <th>UNIXTime</th>\n",
              "      <th>Data</th>\n",
              "      <th>Time</th>\n",
              "      <th>Radiation</th>\n",
              "      <th>Temperature</th>\n",
              "      <th>Pressure</th>\n",
              "      <th>Humidity</th>\n",
              "      <th>WindDirection(Degrees)</th>\n",
              "      <th>Speed</th>\n",
              "      <th>TimeSunRise</th>\n",
              "      <th>TimeSunSet</th>\n",
              "    </tr>\n",
              "  </thead>\n",
              "  <tbody>\n",
              "    <tr>\n",
              "      <th>0</th>\n",
              "      <td>1475229326</td>\n",
              "      <td>9/29/2016 12:00:00 AM</td>\n",
              "      <td>23:55:26</td>\n",
              "      <td>1.21</td>\n",
              "      <td>48</td>\n",
              "      <td>30.46</td>\n",
              "      <td>59</td>\n",
              "      <td>177.39</td>\n",
              "      <td>5.62</td>\n",
              "      <td>06:13:00</td>\n",
              "      <td>18:13:00</td>\n",
              "    </tr>\n",
              "    <tr>\n",
              "      <th>1</th>\n",
              "      <td>1475229023</td>\n",
              "      <td>9/29/2016 12:00:00 AM</td>\n",
              "      <td>23:50:23</td>\n",
              "      <td>1.21</td>\n",
              "      <td>48</td>\n",
              "      <td>30.46</td>\n",
              "      <td>58</td>\n",
              "      <td>176.78</td>\n",
              "      <td>3.37</td>\n",
              "      <td>06:13:00</td>\n",
              "      <td>18:13:00</td>\n",
              "    </tr>\n",
              "    <tr>\n",
              "      <th>2</th>\n",
              "      <td>1475228726</td>\n",
              "      <td>9/29/2016 12:00:00 AM</td>\n",
              "      <td>23:45:26</td>\n",
              "      <td>1.23</td>\n",
              "      <td>48</td>\n",
              "      <td>30.46</td>\n",
              "      <td>57</td>\n",
              "      <td>158.75</td>\n",
              "      <td>3.37</td>\n",
              "      <td>06:13:00</td>\n",
              "      <td>18:13:00</td>\n",
              "    </tr>\n",
              "    <tr>\n",
              "      <th>3</th>\n",
              "      <td>1475228421</td>\n",
              "      <td>9/29/2016 12:00:00 AM</td>\n",
              "      <td>23:40:21</td>\n",
              "      <td>1.21</td>\n",
              "      <td>48</td>\n",
              "      <td>30.46</td>\n",
              "      <td>60</td>\n",
              "      <td>137.71</td>\n",
              "      <td>3.37</td>\n",
              "      <td>06:13:00</td>\n",
              "      <td>18:13:00</td>\n",
              "    </tr>\n",
              "    <tr>\n",
              "      <th>4</th>\n",
              "      <td>1475228124</td>\n",
              "      <td>9/29/2016 12:00:00 AM</td>\n",
              "      <td>23:35:24</td>\n",
              "      <td>1.17</td>\n",
              "      <td>48</td>\n",
              "      <td>30.46</td>\n",
              "      <td>62</td>\n",
              "      <td>104.95</td>\n",
              "      <td>5.62</td>\n",
              "      <td>06:13:00</td>\n",
              "      <td>18:13:00</td>\n",
              "    </tr>\n",
              "  </tbody>\n",
              "</table>\n",
              "</div>\n",
              "    <div class=\"colab-df-buttons\">\n",
              "\n",
              "  <div class=\"colab-df-container\">\n",
              "    <button class=\"colab-df-convert\" onclick=\"convertToInteractive('df-7dc2885b-60e2-4b5b-af9d-a1ab61f2efe8')\"\n",
              "            title=\"Convert this dataframe to an interactive table.\"\n",
              "            style=\"display:none;\">\n",
              "\n",
              "  <svg xmlns=\"http://www.w3.org/2000/svg\" height=\"24px\" viewBox=\"0 -960 960 960\">\n",
              "    <path d=\"M120-120v-720h720v720H120Zm60-500h600v-160H180v160Zm220 220h160v-160H400v160Zm0 220h160v-160H400v160ZM180-400h160v-160H180v160Zm440 0h160v-160H620v160ZM180-180h160v-160H180v160Zm440 0h160v-160H620v160Z\"/>\n",
              "  </svg>\n",
              "    </button>\n",
              "\n",
              "  <style>\n",
              "    .colab-df-container {\n",
              "      display:flex;\n",
              "      gap: 12px;\n",
              "    }\n",
              "\n",
              "    .colab-df-convert {\n",
              "      background-color: #E8F0FE;\n",
              "      border: none;\n",
              "      border-radius: 50%;\n",
              "      cursor: pointer;\n",
              "      display: none;\n",
              "      fill: #1967D2;\n",
              "      height: 32px;\n",
              "      padding: 0 0 0 0;\n",
              "      width: 32px;\n",
              "    }\n",
              "\n",
              "    .colab-df-convert:hover {\n",
              "      background-color: #E2EBFA;\n",
              "      box-shadow: 0px 1px 2px rgba(60, 64, 67, 0.3), 0px 1px 3px 1px rgba(60, 64, 67, 0.15);\n",
              "      fill: #174EA6;\n",
              "    }\n",
              "\n",
              "    .colab-df-buttons div {\n",
              "      margin-bottom: 4px;\n",
              "    }\n",
              "\n",
              "    [theme=dark] .colab-df-convert {\n",
              "      background-color: #3B4455;\n",
              "      fill: #D2E3FC;\n",
              "    }\n",
              "\n",
              "    [theme=dark] .colab-df-convert:hover {\n",
              "      background-color: #434B5C;\n",
              "      box-shadow: 0px 1px 3px 1px rgba(0, 0, 0, 0.15);\n",
              "      filter: drop-shadow(0px 1px 2px rgba(0, 0, 0, 0.3));\n",
              "      fill: #FFFFFF;\n",
              "    }\n",
              "  </style>\n",
              "\n",
              "    <script>\n",
              "      const buttonEl =\n",
              "        document.querySelector('#df-7dc2885b-60e2-4b5b-af9d-a1ab61f2efe8 button.colab-df-convert');\n",
              "      buttonEl.style.display =\n",
              "        google.colab.kernel.accessAllowed ? 'block' : 'none';\n",
              "\n",
              "      async function convertToInteractive(key) {\n",
              "        const element = document.querySelector('#df-7dc2885b-60e2-4b5b-af9d-a1ab61f2efe8');\n",
              "        const dataTable =\n",
              "          await google.colab.kernel.invokeFunction('convertToInteractive',\n",
              "                                                    [key], {});\n",
              "        if (!dataTable) return;\n",
              "\n",
              "        const docLinkHtml = 'Like what you see? Visit the ' +\n",
              "          '<a target=\"_blank\" href=https://colab.research.google.com/notebooks/data_table.ipynb>data table notebook</a>'\n",
              "          + ' to learn more about interactive tables.';\n",
              "        element.innerHTML = '';\n",
              "        dataTable['output_type'] = 'display_data';\n",
              "        await google.colab.output.renderOutput(dataTable, element);\n",
              "        const docLink = document.createElement('div');\n",
              "        docLink.innerHTML = docLinkHtml;\n",
              "        element.appendChild(docLink);\n",
              "      }\n",
              "    </script>\n",
              "  </div>\n",
              "\n",
              "\n",
              "<div id=\"df-5f4a6f24-c62d-49df-9b6c-ea3108712143\">\n",
              "  <button class=\"colab-df-quickchart\" onclick=\"quickchart('df-5f4a6f24-c62d-49df-9b6c-ea3108712143')\"\n",
              "            title=\"Suggest charts\"\n",
              "            style=\"display:none;\">\n",
              "\n",
              "<svg xmlns=\"http://www.w3.org/2000/svg\" height=\"24px\"viewBox=\"0 0 24 24\"\n",
              "     width=\"24px\">\n",
              "    <g>\n",
              "        <path d=\"M19 3H5c-1.1 0-2 .9-2 2v14c0 1.1.9 2 2 2h14c1.1 0 2-.9 2-2V5c0-1.1-.9-2-2-2zM9 17H7v-7h2v7zm4 0h-2V7h2v10zm4 0h-2v-4h2v4z\"/>\n",
              "    </g>\n",
              "</svg>\n",
              "  </button>\n",
              "\n",
              "<style>\n",
              "  .colab-df-quickchart {\n",
              "      --bg-color: #E8F0FE;\n",
              "      --fill-color: #1967D2;\n",
              "      --hover-bg-color: #E2EBFA;\n",
              "      --hover-fill-color: #174EA6;\n",
              "      --disabled-fill-color: #AAA;\n",
              "      --disabled-bg-color: #DDD;\n",
              "  }\n",
              "\n",
              "  [theme=dark] .colab-df-quickchart {\n",
              "      --bg-color: #3B4455;\n",
              "      --fill-color: #D2E3FC;\n",
              "      --hover-bg-color: #434B5C;\n",
              "      --hover-fill-color: #FFFFFF;\n",
              "      --disabled-bg-color: #3B4455;\n",
              "      --disabled-fill-color: #666;\n",
              "  }\n",
              "\n",
              "  .colab-df-quickchart {\n",
              "    background-color: var(--bg-color);\n",
              "    border: none;\n",
              "    border-radius: 50%;\n",
              "    cursor: pointer;\n",
              "    display: none;\n",
              "    fill: var(--fill-color);\n",
              "    height: 32px;\n",
              "    padding: 0;\n",
              "    width: 32px;\n",
              "  }\n",
              "\n",
              "  .colab-df-quickchart:hover {\n",
              "    background-color: var(--hover-bg-color);\n",
              "    box-shadow: 0 1px 2px rgba(60, 64, 67, 0.3), 0 1px 3px 1px rgba(60, 64, 67, 0.15);\n",
              "    fill: var(--button-hover-fill-color);\n",
              "  }\n",
              "\n",
              "  .colab-df-quickchart-complete:disabled,\n",
              "  .colab-df-quickchart-complete:disabled:hover {\n",
              "    background-color: var(--disabled-bg-color);\n",
              "    fill: var(--disabled-fill-color);\n",
              "    box-shadow: none;\n",
              "  }\n",
              "\n",
              "  .colab-df-spinner {\n",
              "    border: 2px solid var(--fill-color);\n",
              "    border-color: transparent;\n",
              "    border-bottom-color: var(--fill-color);\n",
              "    animation:\n",
              "      spin 1s steps(1) infinite;\n",
              "  }\n",
              "\n",
              "  @keyframes spin {\n",
              "    0% {\n",
              "      border-color: transparent;\n",
              "      border-bottom-color: var(--fill-color);\n",
              "      border-left-color: var(--fill-color);\n",
              "    }\n",
              "    20% {\n",
              "      border-color: transparent;\n",
              "      border-left-color: var(--fill-color);\n",
              "      border-top-color: var(--fill-color);\n",
              "    }\n",
              "    30% {\n",
              "      border-color: transparent;\n",
              "      border-left-color: var(--fill-color);\n",
              "      border-top-color: var(--fill-color);\n",
              "      border-right-color: var(--fill-color);\n",
              "    }\n",
              "    40% {\n",
              "      border-color: transparent;\n",
              "      border-right-color: var(--fill-color);\n",
              "      border-top-color: var(--fill-color);\n",
              "    }\n",
              "    60% {\n",
              "      border-color: transparent;\n",
              "      border-right-color: var(--fill-color);\n",
              "    }\n",
              "    80% {\n",
              "      border-color: transparent;\n",
              "      border-right-color: var(--fill-color);\n",
              "      border-bottom-color: var(--fill-color);\n",
              "    }\n",
              "    90% {\n",
              "      border-color: transparent;\n",
              "      border-bottom-color: var(--fill-color);\n",
              "    }\n",
              "  }\n",
              "</style>\n",
              "\n",
              "  <script>\n",
              "    async function quickchart(key) {\n",
              "      const quickchartButtonEl =\n",
              "        document.querySelector('#' + key + ' button');\n",
              "      quickchartButtonEl.disabled = true;  // To prevent multiple clicks.\n",
              "      quickchartButtonEl.classList.add('colab-df-spinner');\n",
              "      try {\n",
              "        const charts = await google.colab.kernel.invokeFunction(\n",
              "            'suggestCharts', [key], {});\n",
              "      } catch (error) {\n",
              "        console.error('Error during call to suggestCharts:', error);\n",
              "      }\n",
              "      quickchartButtonEl.classList.remove('colab-df-spinner');\n",
              "      quickchartButtonEl.classList.add('colab-df-quickchart-complete');\n",
              "    }\n",
              "    (() => {\n",
              "      let quickchartButtonEl =\n",
              "        document.querySelector('#df-5f4a6f24-c62d-49df-9b6c-ea3108712143 button');\n",
              "      quickchartButtonEl.style.display =\n",
              "        google.colab.kernel.accessAllowed ? 'block' : 'none';\n",
              "    })();\n",
              "  </script>\n",
              "</div>\n",
              "\n",
              "    </div>\n",
              "  </div>\n"
            ],
            "application/vnd.google.colaboratory.intrinsic+json": {
              "type": "dataframe",
              "variable_name": "data",
              "summary": "{\n  \"name\": \"data\",\n  \"rows\": 32686,\n  \"fields\": [\n    {\n      \"column\": \"UNIXTime\",\n      \"properties\": {\n        \"dtype\": \"number\",\n        \"std\": 3005036,\n        \"min\": 1472724008,\n        \"max\": 1483264501,\n        \"num_unique_values\": 32686,\n        \"samples\": [\n          1478720107,\n          1474063503,\n          1476109221\n        ],\n        \"semantic_type\": \"\",\n        \"description\": \"\"\n      }\n    },\n    {\n      \"column\": \"Data\",\n      \"properties\": {\n        \"dtype\": \"object\",\n        \"num_unique_values\": 118,\n        \"samples\": [\n          \"10/4/2016 12:00:00 AM\",\n          \"12/31/2016 12:00:00 AM\",\n          \"9/25/2016 12:00:00 AM\"\n        ],\n        \"semantic_type\": \"\",\n        \"description\": \"\"\n      }\n    },\n    {\n      \"column\": \"Time\",\n      \"properties\": {\n        \"dtype\": \"object\",\n        \"num_unique_values\": 8299,\n        \"samples\": [\n          \"16:50:39\",\n          \"03:40:53\",\n          \"19:50:17\"\n        ],\n        \"semantic_type\": \"\",\n        \"description\": \"\"\n      }\n    },\n    {\n      \"column\": \"Radiation\",\n      \"properties\": {\n        \"dtype\": \"number\",\n        \"std\": 315.91638719511025,\n        \"min\": 1.11,\n        \"max\": 1601.26,\n        \"num_unique_values\": 14434,\n        \"samples\": [\n          131.03,\n          49.44,\n          412.71\n        ],\n        \"semantic_type\": \"\",\n        \"description\": \"\"\n      }\n    },\n    {\n      \"column\": \"Temperature\",\n      \"properties\": {\n        \"dtype\": \"number\",\n        \"std\": 6,\n        \"min\": 34,\n        \"max\": 71,\n        \"num_unique_values\": 38,\n        \"samples\": [\n          38,\n          35,\n          52\n        ],\n        \"semantic_type\": \"\",\n        \"description\": \"\"\n      }\n    },\n    {\n      \"column\": \"Pressure\",\n      \"properties\": {\n        \"dtype\": \"number\",\n        \"std\": 0.05467315506388666,\n        \"min\": 30.19,\n        \"max\": 30.56,\n        \"num_unique_values\": 38,\n        \"samples\": [\n          30.23,\n          30.2,\n          30.43\n        ],\n        \"semantic_type\": \"\",\n        \"description\": \"\"\n      }\n    },\n    {\n      \"column\": \"Humidity\",\n      \"properties\": {\n        \"dtype\": \"number\",\n        \"std\": 25,\n        \"min\": 8,\n        \"max\": 103,\n        \"num_unique_values\": 94,\n        \"samples\": [\n          45,\n          86,\n          66\n        ],\n        \"semantic_type\": \"\",\n        \"description\": \"\"\n      }\n    },\n    {\n      \"column\": \"WindDirection(Degrees)\",\n      \"properties\": {\n        \"dtype\": \"number\",\n        \"std\": 83.16749964761783,\n        \"min\": 0.09,\n        \"max\": 359.95,\n        \"num_unique_values\": 17951,\n        \"samples\": [\n          69.54,\n          33.14,\n          153.93\n        ],\n        \"semantic_type\": \"\",\n        \"description\": \"\"\n      }\n    },\n    {\n      \"column\": \"Speed\",\n      \"properties\": {\n        \"dtype\": \"number\",\n        \"std\": 3.4904735500653947,\n        \"min\": 0.0,\n        \"max\": 40.5,\n        \"num_unique_values\": 37,\n        \"samples\": [\n          20.25,\n          13.5,\n          2.25\n        ],\n        \"semantic_type\": \"\",\n        \"description\": \"\"\n      }\n    },\n    {\n      \"column\": \"TimeSunRise\",\n      \"properties\": {\n        \"dtype\": \"object\",\n        \"num_unique_values\": 51,\n        \"samples\": [\n          \"06:48:00\",\n          \"06:51:00\",\n          \"06:45:00\"\n        ],\n        \"semantic_type\": \"\",\n        \"description\": \"\"\n      }\n    },\n    {\n      \"column\": \"TimeSunSet\",\n      \"properties\": {\n        \"dtype\": \"object\",\n        \"num_unique_values\": 56,\n        \"samples\": [\n          \"18:13:00\",\n          \"18:18:00\",\n          \"17:56:00\"\n        ],\n        \"semantic_type\": \"\",\n        \"description\": \"\"\n      }\n    }\n  ]\n}"
            }
          },
          "metadata": {},
          "execution_count": 30
        }
      ]
    },
    {
      "cell_type": "code",
      "source": [
        "# Step 4: Preprocess the dataset\n",
        "data.columns = data.columns.str.strip()\n",
        "print(data.head())\n",
        "# Now check again if the names match\n",
        "# print(df.columns)\n",
        "\n",
        "\n",
        "\n"
      ],
      "metadata": {
        "colab": {
          "base_uri": "https://localhost:8080/"
        },
        "id": "MMzZ8IypfHNf",
        "outputId": "76f8d55e-2a82-4031-8ba4-7a5f355bb2e7"
      },
      "execution_count": 31,
      "outputs": [
        {
          "output_type": "stream",
          "name": "stdout",
          "text": [
            "     UNIXTime                   Data      Time  Radiation  Temperature  \\\n",
            "0  1475229326  9/29/2016 12:00:00 AM  23:55:26       1.21           48   \n",
            "1  1475229023  9/29/2016 12:00:00 AM  23:50:23       1.21           48   \n",
            "2  1475228726  9/29/2016 12:00:00 AM  23:45:26       1.23           48   \n",
            "3  1475228421  9/29/2016 12:00:00 AM  23:40:21       1.21           48   \n",
            "4  1475228124  9/29/2016 12:00:00 AM  23:35:24       1.17           48   \n",
            "\n",
            "   Pressure  Humidity  WindDirection(Degrees)  Speed TimeSunRise TimeSunSet  \n",
            "0     30.46        59                  177.39   5.62    06:13:00   18:13:00  \n",
            "1     30.46        58                  176.78   3.37    06:13:00   18:13:00  \n",
            "2     30.46        57                  158.75   3.37    06:13:00   18:13:00  \n",
            "3     30.46        60                  137.71   3.37    06:13:00   18:13:00  \n",
            "4     30.46        62                  104.95   5.62    06:13:00   18:13:00  \n"
          ]
        }
      ]
    },
    {
      "cell_type": "code",
      "source": [
        "# Combine 'Date' and 'Time' columns into a new 'DateTime' column\n",
        "data['DateTime'] = pd.to_datetime(data['Data'] + ' ' + data['Time'])\n",
        "\n",
        "# Set 'Datetime' as the index\n",
        "\n",
        "data.set_index('DateTime', inplace=True)\n",
        "\n",
        "# Assign a frequency to the DateTime index (e.g., 'H' for hourly, 'D' for daily)\n",
        "data = data.asfreq('H')\n",
        "#df.set_index('DateTime', inplace=True)\n",
        "data.drop(['UNIXTime', 'Data', 'Time', 'TimeSunRise', 'TimeSunSet'], axis=1, inplace=True)\n",
        "target = \"Radiation\"\n",
        "\n",
        "print(data.head())\n"
      ],
      "metadata": {
        "colab": {
          "base_uri": "https://localhost:8080/"
        },
        "id": "66QyP-DVE-rP",
        "outputId": "6b494265-4f50-46ea-f537-30ee353b4a18"
      },
      "execution_count": 32,
      "outputs": [
        {
          "output_type": "stream",
          "name": "stdout",
          "text": [
            "                     Radiation  Temperature  Pressure  Humidity  \\\n",
            "DateTime                                                          \n",
            "2016-09-01 00:00:08       2.58         51.0     30.43     103.0   \n",
            "2016-09-01 01:00:08        NaN          NaN       NaN       NaN   \n",
            "2016-09-01 02:00:08        NaN          NaN       NaN       NaN   \n",
            "2016-09-01 03:00:08        NaN          NaN       NaN       NaN   \n",
            "2016-09-01 04:00:08        NaN          NaN       NaN       NaN   \n",
            "\n",
            "                     WindDirection(Degrees)  Speed  \n",
            "DateTime                                            \n",
            "2016-09-01 00:00:08                   77.27  11.25  \n",
            "2016-09-01 01:00:08                     NaN    NaN  \n",
            "2016-09-01 02:00:08                     NaN    NaN  \n",
            "2016-09-01 03:00:08                     NaN    NaN  \n",
            "2016-09-01 04:00:08                     NaN    NaN  \n"
          ]
        }
      ]
    },
    {
      "cell_type": "code",
      "source": [
        "data.head()\n",
        "# Global Figure Settings for notebook ----\n",
        "# Depending on whether you are using jupyter notebook, jupyter lab, Google Colab, you may have to set the renderer appropriately\n",
        "# NOTE: Setting to a static renderer here so that the notebook saved size is reduced.\n",
        "global_fig_settings = {\n",
        "    # \"renderer\": \"notebook\",\n",
        "    \"renderer\": \"png\",\n",
        "    \"width\": 1000,\n",
        "    \"height\": 600,\n",
        "}"
      ],
      "metadata": {
        "id": "mSXUs-5oOgTN"
      },
      "execution_count": 33,
      "outputs": []
    },
    {
      "cell_type": "code",
      "source": [
        "# Create an EDA experiment ----\n",
        "eda = TSForecastingExperiment()\n",
        "eda.setup(data=data,target=target,fh=48,numeric_imputation_target=\"ffill\",numeric_imputation_exogenous=\"ffill\",fig_kwargs=global_fig_settings,session_id=42)"
      ],
      "metadata": {
        "colab": {
          "base_uri": "https://localhost:8080/",
          "height": 1000
        },
        "id": "Tr2cDyZDLM_S",
        "outputId": "1998201b-fa15-457b-b084-971c96840c85"
      },
      "execution_count": 34,
      "outputs": [
        {
          "output_type": "display_data",
          "data": {
            "text/plain": [
              "<pandas.io.formats.style.Styler at 0x7a34b9d8f6a0>"
            ],
            "text/html": [
              "<style type=\"text/css\">\n",
              "#T_2384d_row31_col1 {\n",
              "  background-color: lightgreen;\n",
              "}\n",
              "</style>\n",
              "<table id=\"T_2384d\" class=\"dataframe\">\n",
              "  <thead>\n",
              "    <tr>\n",
              "      <th class=\"blank level0\" >&nbsp;</th>\n",
              "      <th id=\"T_2384d_level0_col0\" class=\"col_heading level0 col0\" >Description</th>\n",
              "      <th id=\"T_2384d_level0_col1\" class=\"col_heading level0 col1\" >Value</th>\n",
              "    </tr>\n",
              "  </thead>\n",
              "  <tbody>\n",
              "    <tr>\n",
              "      <th id=\"T_2384d_level0_row0\" class=\"row_heading level0 row0\" >0</th>\n",
              "      <td id=\"T_2384d_row0_col0\" class=\"data row0 col0\" >session_id</td>\n",
              "      <td id=\"T_2384d_row0_col1\" class=\"data row0 col1\" >42</td>\n",
              "    </tr>\n",
              "    <tr>\n",
              "      <th id=\"T_2384d_level0_row1\" class=\"row_heading level0 row1\" >1</th>\n",
              "      <td id=\"T_2384d_row1_col0\" class=\"data row1 col0\" >Target</td>\n",
              "      <td id=\"T_2384d_row1_col1\" class=\"data row1 col1\" >Radiation</td>\n",
              "    </tr>\n",
              "    <tr>\n",
              "      <th id=\"T_2384d_level0_row2\" class=\"row_heading level0 row2\" >2</th>\n",
              "      <td id=\"T_2384d_row2_col0\" class=\"data row2 col0\" >Approach</td>\n",
              "      <td id=\"T_2384d_row2_col1\" class=\"data row2 col1\" >Univariate</td>\n",
              "    </tr>\n",
              "    <tr>\n",
              "      <th id=\"T_2384d_level0_row3\" class=\"row_heading level0 row3\" >3</th>\n",
              "      <td id=\"T_2384d_row3_col0\" class=\"data row3 col0\" >Exogenous Variables</td>\n",
              "      <td id=\"T_2384d_row3_col1\" class=\"data row3 col1\" >Present</td>\n",
              "    </tr>\n",
              "    <tr>\n",
              "      <th id=\"T_2384d_level0_row4\" class=\"row_heading level0 row4\" >4</th>\n",
              "      <td id=\"T_2384d_row4_col0\" class=\"data row4 col0\" >Original data shape</td>\n",
              "      <td id=\"T_2384d_row4_col1\" class=\"data row4 col1\" >(2928, 6)</td>\n",
              "    </tr>\n",
              "    <tr>\n",
              "      <th id=\"T_2384d_level0_row5\" class=\"row_heading level0 row5\" >5</th>\n",
              "      <td id=\"T_2384d_row5_col0\" class=\"data row5 col0\" >Transformed data shape</td>\n",
              "      <td id=\"T_2384d_row5_col1\" class=\"data row5 col1\" >(2928, 6)</td>\n",
              "    </tr>\n",
              "    <tr>\n",
              "      <th id=\"T_2384d_level0_row6\" class=\"row_heading level0 row6\" >6</th>\n",
              "      <td id=\"T_2384d_row6_col0\" class=\"data row6 col0\" >Transformed train set shape</td>\n",
              "      <td id=\"T_2384d_row6_col1\" class=\"data row6 col1\" >(2880, 6)</td>\n",
              "    </tr>\n",
              "    <tr>\n",
              "      <th id=\"T_2384d_level0_row7\" class=\"row_heading level0 row7\" >7</th>\n",
              "      <td id=\"T_2384d_row7_col0\" class=\"data row7 col0\" >Transformed test set shape</td>\n",
              "      <td id=\"T_2384d_row7_col1\" class=\"data row7 col1\" >(48, 6)</td>\n",
              "    </tr>\n",
              "    <tr>\n",
              "      <th id=\"T_2384d_level0_row8\" class=\"row_heading level0 row8\" >8</th>\n",
              "      <td id=\"T_2384d_row8_col0\" class=\"data row8 col0\" >Rows with missing values</td>\n",
              "      <td id=\"T_2384d_row8_col1\" class=\"data row8 col1\" >99.0%</td>\n",
              "    </tr>\n",
              "    <tr>\n",
              "      <th id=\"T_2384d_level0_row9\" class=\"row_heading level0 row9\" >9</th>\n",
              "      <td id=\"T_2384d_row9_col0\" class=\"data row9 col0\" >Fold Generator</td>\n",
              "      <td id=\"T_2384d_row9_col1\" class=\"data row9 col1\" >ExpandingWindowSplitter</td>\n",
              "    </tr>\n",
              "    <tr>\n",
              "      <th id=\"T_2384d_level0_row10\" class=\"row_heading level0 row10\" >10</th>\n",
              "      <td id=\"T_2384d_row10_col0\" class=\"data row10 col0\" >Fold Number</td>\n",
              "      <td id=\"T_2384d_row10_col1\" class=\"data row10 col1\" >3</td>\n",
              "    </tr>\n",
              "    <tr>\n",
              "      <th id=\"T_2384d_level0_row11\" class=\"row_heading level0 row11\" >11</th>\n",
              "      <td id=\"T_2384d_row11_col0\" class=\"data row11 col0\" >Enforce Prediction Interval</td>\n",
              "      <td id=\"T_2384d_row11_col1\" class=\"data row11 col1\" >False</td>\n",
              "    </tr>\n",
              "    <tr>\n",
              "      <th id=\"T_2384d_level0_row12\" class=\"row_heading level0 row12\" >12</th>\n",
              "      <td id=\"T_2384d_row12_col0\" class=\"data row12 col0\" >Splits used for hyperparameters</td>\n",
              "      <td id=\"T_2384d_row12_col1\" class=\"data row12 col1\" >all</td>\n",
              "    </tr>\n",
              "    <tr>\n",
              "      <th id=\"T_2384d_level0_row13\" class=\"row_heading level0 row13\" >13</th>\n",
              "      <td id=\"T_2384d_row13_col0\" class=\"data row13 col0\" >User Defined Seasonal Period(s)</td>\n",
              "      <td id=\"T_2384d_row13_col1\" class=\"data row13 col1\" >None</td>\n",
              "    </tr>\n",
              "    <tr>\n",
              "      <th id=\"T_2384d_level0_row14\" class=\"row_heading level0 row14\" >14</th>\n",
              "      <td id=\"T_2384d_row14_col0\" class=\"data row14 col0\" >Ignore Seasonality Test</td>\n",
              "      <td id=\"T_2384d_row14_col1\" class=\"data row14 col1\" >False</td>\n",
              "    </tr>\n",
              "    <tr>\n",
              "      <th id=\"T_2384d_level0_row15\" class=\"row_heading level0 row15\" >15</th>\n",
              "      <td id=\"T_2384d_row15_col0\" class=\"data row15 col0\" >Seasonality Detection Algo</td>\n",
              "      <td id=\"T_2384d_row15_col1\" class=\"data row15 col1\" >auto</td>\n",
              "    </tr>\n",
              "    <tr>\n",
              "      <th id=\"T_2384d_level0_row16\" class=\"row_heading level0 row16\" >16</th>\n",
              "      <td id=\"T_2384d_row16_col0\" class=\"data row16 col0\" >Max Period to Consider</td>\n",
              "      <td id=\"T_2384d_row16_col1\" class=\"data row16 col1\" >60</td>\n",
              "    </tr>\n",
              "    <tr>\n",
              "      <th id=\"T_2384d_level0_row17\" class=\"row_heading level0 row17\" >17</th>\n",
              "      <td id=\"T_2384d_row17_col0\" class=\"data row17 col0\" >Seasonal Period(s) Tested</td>\n",
              "      <td id=\"T_2384d_row17_col1\" class=\"data row17 col1\" >[]</td>\n",
              "    </tr>\n",
              "    <tr>\n",
              "      <th id=\"T_2384d_level0_row18\" class=\"row_heading level0 row18\" >18</th>\n",
              "      <td id=\"T_2384d_row18_col0\" class=\"data row18 col0\" >Significant Seasonal Period(s)</td>\n",
              "      <td id=\"T_2384d_row18_col1\" class=\"data row18 col1\" >[1]</td>\n",
              "    </tr>\n",
              "    <tr>\n",
              "      <th id=\"T_2384d_level0_row19\" class=\"row_heading level0 row19\" >19</th>\n",
              "      <td id=\"T_2384d_row19_col0\" class=\"data row19 col0\" >Significant Seasonal Period(s) without Harmonics</td>\n",
              "      <td id=\"T_2384d_row19_col1\" class=\"data row19 col1\" >[1]</td>\n",
              "    </tr>\n",
              "    <tr>\n",
              "      <th id=\"T_2384d_level0_row20\" class=\"row_heading level0 row20\" >20</th>\n",
              "      <td id=\"T_2384d_row20_col0\" class=\"data row20 col0\" >Remove Harmonics</td>\n",
              "      <td id=\"T_2384d_row20_col1\" class=\"data row20 col1\" >False</td>\n",
              "    </tr>\n",
              "    <tr>\n",
              "      <th id=\"T_2384d_level0_row21\" class=\"row_heading level0 row21\" >21</th>\n",
              "      <td id=\"T_2384d_row21_col0\" class=\"data row21 col0\" >Harmonics Order Method</td>\n",
              "      <td id=\"T_2384d_row21_col1\" class=\"data row21 col1\" >harmonic_max</td>\n",
              "    </tr>\n",
              "    <tr>\n",
              "      <th id=\"T_2384d_level0_row22\" class=\"row_heading level0 row22\" >22</th>\n",
              "      <td id=\"T_2384d_row22_col0\" class=\"data row22 col0\" >Num Seasonalities to Use</td>\n",
              "      <td id=\"T_2384d_row22_col1\" class=\"data row22 col1\" >1</td>\n",
              "    </tr>\n",
              "    <tr>\n",
              "      <th id=\"T_2384d_level0_row23\" class=\"row_heading level0 row23\" >23</th>\n",
              "      <td id=\"T_2384d_row23_col0\" class=\"data row23 col0\" >All Seasonalities to Use</td>\n",
              "      <td id=\"T_2384d_row23_col1\" class=\"data row23 col1\" >[1]</td>\n",
              "    </tr>\n",
              "    <tr>\n",
              "      <th id=\"T_2384d_level0_row24\" class=\"row_heading level0 row24\" >24</th>\n",
              "      <td id=\"T_2384d_row24_col0\" class=\"data row24 col0\" >Primary Seasonality</td>\n",
              "      <td id=\"T_2384d_row24_col1\" class=\"data row24 col1\" >1</td>\n",
              "    </tr>\n",
              "    <tr>\n",
              "      <th id=\"T_2384d_level0_row25\" class=\"row_heading level0 row25\" >25</th>\n",
              "      <td id=\"T_2384d_row25_col0\" class=\"data row25 col0\" >Seasonality Present</td>\n",
              "      <td id=\"T_2384d_row25_col1\" class=\"data row25 col1\" >False</td>\n",
              "    </tr>\n",
              "    <tr>\n",
              "      <th id=\"T_2384d_level0_row26\" class=\"row_heading level0 row26\" >26</th>\n",
              "      <td id=\"T_2384d_row26_col0\" class=\"data row26 col0\" >Seasonality Type</td>\n",
              "      <td id=\"T_2384d_row26_col1\" class=\"data row26 col1\" >None</td>\n",
              "    </tr>\n",
              "    <tr>\n",
              "      <th id=\"T_2384d_level0_row27\" class=\"row_heading level0 row27\" >27</th>\n",
              "      <td id=\"T_2384d_row27_col0\" class=\"data row27 col0\" >Target Strictly Positive</td>\n",
              "      <td id=\"T_2384d_row27_col1\" class=\"data row27 col1\" >True</td>\n",
              "    </tr>\n",
              "    <tr>\n",
              "      <th id=\"T_2384d_level0_row28\" class=\"row_heading level0 row28\" >28</th>\n",
              "      <td id=\"T_2384d_row28_col0\" class=\"data row28 col0\" >Target White Noise</td>\n",
              "      <td id=\"T_2384d_row28_col1\" class=\"data row28 col1\" >No</td>\n",
              "    </tr>\n",
              "    <tr>\n",
              "      <th id=\"T_2384d_level0_row29\" class=\"row_heading level0 row29\" >29</th>\n",
              "      <td id=\"T_2384d_row29_col0\" class=\"data row29 col0\" >Recommended d</td>\n",
              "      <td id=\"T_2384d_row29_col1\" class=\"data row29 col1\" >1</td>\n",
              "    </tr>\n",
              "    <tr>\n",
              "      <th id=\"T_2384d_level0_row30\" class=\"row_heading level0 row30\" >30</th>\n",
              "      <td id=\"T_2384d_row30_col0\" class=\"data row30 col0\" >Recommended Seasonal D</td>\n",
              "      <td id=\"T_2384d_row30_col1\" class=\"data row30 col1\" >0</td>\n",
              "    </tr>\n",
              "    <tr>\n",
              "      <th id=\"T_2384d_level0_row31\" class=\"row_heading level0 row31\" >31</th>\n",
              "      <td id=\"T_2384d_row31_col0\" class=\"data row31 col0\" >Preprocess</td>\n",
              "      <td id=\"T_2384d_row31_col1\" class=\"data row31 col1\" >True</td>\n",
              "    </tr>\n",
              "    <tr>\n",
              "      <th id=\"T_2384d_level0_row32\" class=\"row_heading level0 row32\" >32</th>\n",
              "      <td id=\"T_2384d_row32_col0\" class=\"data row32 col0\" >Numerical Imputation (Target)</td>\n",
              "      <td id=\"T_2384d_row32_col1\" class=\"data row32 col1\" >ffill</td>\n",
              "    </tr>\n",
              "    <tr>\n",
              "      <th id=\"T_2384d_level0_row33\" class=\"row_heading level0 row33\" >33</th>\n",
              "      <td id=\"T_2384d_row33_col0\" class=\"data row33 col0\" >Transformation (Target)</td>\n",
              "      <td id=\"T_2384d_row33_col1\" class=\"data row33 col1\" >None</td>\n",
              "    </tr>\n",
              "    <tr>\n",
              "      <th id=\"T_2384d_level0_row34\" class=\"row_heading level0 row34\" >34</th>\n",
              "      <td id=\"T_2384d_row34_col0\" class=\"data row34 col0\" >Scaling (Target)</td>\n",
              "      <td id=\"T_2384d_row34_col1\" class=\"data row34 col1\" >None</td>\n",
              "    </tr>\n",
              "    <tr>\n",
              "      <th id=\"T_2384d_level0_row35\" class=\"row_heading level0 row35\" >35</th>\n",
              "      <td id=\"T_2384d_row35_col0\" class=\"data row35 col0\" >Feature Engineering (Target) - Reduced Regression</td>\n",
              "      <td id=\"T_2384d_row35_col1\" class=\"data row35 col1\" >False</td>\n",
              "    </tr>\n",
              "    <tr>\n",
              "      <th id=\"T_2384d_level0_row36\" class=\"row_heading level0 row36\" >36</th>\n",
              "      <td id=\"T_2384d_row36_col0\" class=\"data row36 col0\" >Numerical Imputation (Exogenous)</td>\n",
              "      <td id=\"T_2384d_row36_col1\" class=\"data row36 col1\" >ffill</td>\n",
              "    </tr>\n",
              "    <tr>\n",
              "      <th id=\"T_2384d_level0_row37\" class=\"row_heading level0 row37\" >37</th>\n",
              "      <td id=\"T_2384d_row37_col0\" class=\"data row37 col0\" >Transformation (Exogenous)</td>\n",
              "      <td id=\"T_2384d_row37_col1\" class=\"data row37 col1\" >None</td>\n",
              "    </tr>\n",
              "    <tr>\n",
              "      <th id=\"T_2384d_level0_row38\" class=\"row_heading level0 row38\" >38</th>\n",
              "      <td id=\"T_2384d_row38_col0\" class=\"data row38 col0\" >Scaling (Exogenous)</td>\n",
              "      <td id=\"T_2384d_row38_col1\" class=\"data row38 col1\" >None</td>\n",
              "    </tr>\n",
              "    <tr>\n",
              "      <th id=\"T_2384d_level0_row39\" class=\"row_heading level0 row39\" >39</th>\n",
              "      <td id=\"T_2384d_row39_col0\" class=\"data row39 col0\" >CPU Jobs</td>\n",
              "      <td id=\"T_2384d_row39_col1\" class=\"data row39 col1\" >-1</td>\n",
              "    </tr>\n",
              "    <tr>\n",
              "      <th id=\"T_2384d_level0_row40\" class=\"row_heading level0 row40\" >40</th>\n",
              "      <td id=\"T_2384d_row40_col0\" class=\"data row40 col0\" >Use GPU</td>\n",
              "      <td id=\"T_2384d_row40_col1\" class=\"data row40 col1\" >False</td>\n",
              "    </tr>\n",
              "    <tr>\n",
              "      <th id=\"T_2384d_level0_row41\" class=\"row_heading level0 row41\" >41</th>\n",
              "      <td id=\"T_2384d_row41_col0\" class=\"data row41 col0\" >Log Experiment</td>\n",
              "      <td id=\"T_2384d_row41_col1\" class=\"data row41 col1\" >False</td>\n",
              "    </tr>\n",
              "    <tr>\n",
              "      <th id=\"T_2384d_level0_row42\" class=\"row_heading level0 row42\" >42</th>\n",
              "      <td id=\"T_2384d_row42_col0\" class=\"data row42 col0\" >Experiment Name</td>\n",
              "      <td id=\"T_2384d_row42_col1\" class=\"data row42 col1\" >ts-default-name</td>\n",
              "    </tr>\n",
              "    <tr>\n",
              "      <th id=\"T_2384d_level0_row43\" class=\"row_heading level0 row43\" >43</th>\n",
              "      <td id=\"T_2384d_row43_col0\" class=\"data row43 col0\" >USI</td>\n",
              "      <td id=\"T_2384d_row43_col1\" class=\"data row43 col1\" >af35</td>\n",
              "    </tr>\n",
              "  </tbody>\n",
              "</table>\n"
            ]
          },
          "metadata": {}
        },
        {
          "output_type": "execute_result",
          "data": {
            "text/plain": [
              "<pycaret.time_series.forecasting.oop.TSForecastingExperiment at 0x7a34b9d5d4b0>"
            ]
          },
          "metadata": {},
          "execution_count": 34
        }
      ]
    },
    {
      "cell_type": "code",
      "source": [
        "eda.plot_model(fig_kwargs={\"renderer\": \"png\", \"width\": 1000, \"height\": 1200})"
      ],
      "metadata": {
        "colab": {
          "base_uri": "https://localhost:8080/",
          "height": 774
        },
        "id": "my-Q9kgwO0nM",
        "outputId": "58c33ad5-a55d-4192-a6a9-0fd4efe34de8"
      },
      "execution_count": 35,
      "outputs": [
        {
          "output_type": "display_data",
          "data": {
            "image/png": "[encoded data removed]"
          },
          "metadata": {}
        }
      ]
    },
    {
      "cell_type": "code",
      "source": [
        "eda.compare_models()"
      ],
      "metadata": {
        "id": "eD5jVT5jHOf1",
        "colab": {
          "base_uri": "https://localhost:8080/",
          "height": 35,
          "referenced_widgets": [
            "9fe43f3fea7447c59f743895953be996",
            "bb3a19595fde4aa7868ed632e5e28361",
            "6c499f016ab14ed8b0e7c0ef804a721f",
            "e5095da50b1f48d1b25d61e1b8f1a3ca",
            "bca94629824d4bbb833ea53495468d55",
            "56f96bba52854a88b05d5833b55d58a7",
            "ffeabeb9ac3d4f9ca71b663d6bab59b8",
            "d8f42ed60439460ebb35e2c28d9aba33",
            "b56215e3cd474fc880268a7b18c01382",
            "ca8e38880456471593e4017a986bb6b2",
            "df13c5c27fde4d99a79682ed561cf7b2"
          ]
        },
        "outputId": "f88ae5f7-2aac-40d0-8c51-20ce58282749"
      },
      "execution_count": 36,
      "outputs": [
        {
          "output_type": "display_data",
          "data": {
            "text/plain": [
              "<IPython.core.display.HTML object>"
            ],
            "text/html": []
          },
          "metadata": {}
        },
        {
          "output_type": "display_data",
          "data": {
            "text/plain": [
              "<pandas.io.formats.style.Styler at 0x7a34b5a80c40>"
            ],
            "text/html": [
              "<style type=\"text/css\">\n",
              "</style>\n",
              "<table id=\"T_9e287\" class=\"dataframe\">\n",
              "  <thead>\n",
              "  </thead>\n",
              "  <tbody>\n",
              "  </tbody>\n",
              "</table>\n"
            ]
          },
          "metadata": {}
        },
        {
          "output_type": "display_data",
          "data": {
            "text/plain": [
              "Processing:   0%|          | 0/89 [00:00<?, ?it/s]"
            ],
            "application/vnd.jupyter.widget-view+json": {
              "version_major": 2,
              "version_minor": 0,
              "model_id": "9fe43f3fea7447c59f743895953be996"
            }
          },
          "metadata": {
            "application/vnd.jupyter.widget-view+json": {
              "colab": {
                "custom_widget_manager": {
                  "url": "https://ssl.gstatic.com/colaboratory-static/widgets/colab-cdn-widget-manager/2b70e893a8ba7c0f/manager.min.js"
                }
              }
            }
          }
        },
        {
          "output_type": "display_data",
          "data": {
            "text/plain": [
              "<IPython.core.display.HTML object>"
            ],
            "text/html": []
          },
          "metadata": {}
        },
        {
          "output_type": "execute_result",
          "data": {
            "text/plain": [
              "[]"
            ]
          },
          "metadata": {},
          "execution_count": 36
        }
      ]
    },
    {
      "cell_type": "code",
      "source": [
        "# plot forecast\n",
        "from pycaret.time_series import *\n",
        "plot_model(best, plot = 'forecast')"
      ],
      "metadata": {
        "colab": {
          "base_uri": "https://localhost:8080/",
          "height": 198
        },
        "id": "ZSFBqQRWqFuy",
        "outputId": "ac7a2ede-0050-483d-b896-193db81b2968"
      },
      "execution_count": 37,
      "outputs": [
        {
          "output_type": "error",
          "ename": "NameError",
          "evalue": "name 'plot_model' is not defined",
          "traceback": [
            "\u001b[0;31m---------------------------------------------------------------------------\u001b[0m",
            "\u001b[0;31mNameError\u001b[0m                                 Traceback (most recent call last)",
            "\u001b[0;32m<ipython-input-37-5b5a0e2c62fb>\u001b[0m in \u001b[0;36m<cell line: 2>\u001b[0;34m()\u001b[0m\n\u001b[1;32m      1\u001b[0m \u001b[0;31m# plot forecast\u001b[0m\u001b[0;34m\u001b[0m\u001b[0;34m\u001b[0m\u001b[0m\n\u001b[0;32m----> 2\u001b[0;31m \u001b[0mplot_model\u001b[0m\u001b[0;34m(\u001b[0m\u001b[0mbest\u001b[0m\u001b[0;34m,\u001b[0m \u001b[0mplot\u001b[0m \u001b[0;34m=\u001b[0m \u001b[0;34m'forecast'\u001b[0m\u001b[0;34m)\u001b[0m\u001b[0;34m\u001b[0m\u001b[0;34m\u001b[0m\u001b[0m\n\u001b[0m",
            "\u001b[0;31mNameError\u001b[0m: name 'plot_model' is not defined"
          ]
        }
      ]
    },
    {
      "cell_type": "code",
      "source": [
        "# residuals plot\n",
        "plot_model(best, plot = 'residuals')"
      ],
      "metadata": {
        "id": "dEOSwIrRqhtW"
      },
      "execution_count": null,
      "outputs": []
    },
    {
      "cell_type": "code",
      "source": [
        "# predict on test set\n",
        "holdout_pred = predict_model(best)"
      ],
      "metadata": {
        "id": "mHc7C6X_qjv6"
      },
      "execution_count": null,
      "outputs": []
    },
    {
      "cell_type": "code",
      "source": [
        "#show predictions df\n",
        "holdout_pred.head()"
      ],
      "metadata": {
        "id": "AZ06DqLCqmcV"
      },
      "execution_count": null,
      "outputs": []
    },
    {
      "cell_type": "code",
      "source": [
        "# generate forecast for 36 period in future\n",
        "predict_model(best, fh = 36)"
      ],
      "metadata": {
        "id": "lCBS1v04qo-L"
      },
      "execution_count": null,
      "outputs": []
    },
    {
      "cell_type": "code",
      "source": [
        "# save pipeline\n",
        "save_model(best, 'my_first_pipeline')"
      ],
      "metadata": {
        "id": "2GySrdfAqzgR"
      },
      "execution_count": null,
      "outputs": []
    },
    {
      "cell_type": "code",
      "source": [
        "# load pipeline\n",
        "loaded_best_pipeline = load_model('my_first_pipeline')\n",
        "loaded_best_pipeline"
      ],
      "metadata": {
        "id": "2a7IALyoqzIl"
      },
      "execution_count": null,
      "outputs": []
    }
  ]
}